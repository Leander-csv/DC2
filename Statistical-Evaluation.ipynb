{
 "cells": [
  {
   "cell_type": "code",
   "execution_count": 7,
   "metadata": {},
   "outputs": [],
   "source": [
    "import pandas as pd \n",
    "import numpy as np\n",
    "import matplotlib.pyplot as plt\n",
    "from sklearn import linear_model\n",
    "import seaborn as sns\n",
    "from datetime import datetime\n",
    "import plotly.express as px\n",
    "import plotly.graph_objects as go\n",
    "from sklearn.cluster import KMeans\n"
   ]
  },
  {
   "cell_type": "code",
   "execution_count": 3,
   "metadata": {},
   "outputs": [
    {
     "name": "stderr",
     "output_type": "stream",
     "text": [
      "/var/folders/ph/6xj4s_7j2hdblj9jts4mbpvc0000gn/T/ipykernel_7659/3534901098.py:1: DtypeWarning: Columns (0) have mixed types. Specify dtype option on import or set low_memory=False.\n",
      "  df_street_cleaned = pd.read_csv('final_street.csv')\n"
     ]
    }
   ],
   "source": [
    "df_street_cleaned = pd.read_csv('final_street.csv')"
   ]
  },
  {
   "cell_type": "code",
   "execution_count": 4,
   "metadata": {},
   "outputs": [],
   "source": [
    "df_street_cleaned['Month'] = pd.to_datetime(df_street_cleaned['Month'], format='%Y-%m-%d')"
   ]
  },
  {
   "cell_type": "markdown",
   "metadata": {},
   "source": [
    "# Statistical Evaluation"
   ]
  },
  {
   "cell_type": "code",
   "execution_count": 14,
   "metadata": {},
   "outputs": [],
   "source": [
    "from math import radians, cos, sin, asin, sqrt\n",
    "\n",
    "def haversine(lon1, lat1, lon2, lat2):\n",
    "    \"\"\"\n",
    "    Calculate the great circle distance in kilometers between two points \n",
    "    on the earth (specified in decimal degrees)\n",
    "    \"\"\"\n",
    "    # convert decimal degrees to radians \n",
    "    lon1, lat1, lon2, lat2 = map(radians, [lon1, lat1, lon2, lat2])\n",
    "\n",
    "    # haversine formula \n",
    "    dlon = lon2 - lon1 \n",
    "    dlat = lat2 - lat1 \n",
    "    a = sin(dlat/2)**2 + cos(lat1) * cos(lat2) * sin(dlon/2)**2\n",
    "    c = 2 * asin(sqrt(a)) \n",
    "    r = 6371 # Radius of earth in kilometers. Use 3956 for miles. Determines return value units.\n",
    "    return c * r"
   ]
  },
  {
   "cell_type": "code",
   "execution_count": 21,
   "metadata": {},
   "outputs": [],
   "source": [
    "from datetime import date\n",
    "def mask_year_januari(data)\n",
    "mask_jan = [x.month == 1 for x in data['Month']]\n",
    "data_2020_jan = data_2020[mask_jan]"
   ]
  },
  {
   "cell_type": "code",
   "execution_count": 22,
   "metadata": {},
   "outputs": [],
   "source": [
    "mask_jan = [x.month == 1 for x in data_2014_2019['Month']]\n",
    "data_2014_2019_jan = data_2014_2019[mask_jan]"
   ]
  },
  {
   "cell_type": "code",
   "execution_count": 30,
   "metadata": {},
   "outputs": [],
   "source": [
    "data = data_2014_2019_jan.loc[:, ['Longitude', 'Latitude']]\n",
    "X = data.values\n",
    "Y = data_2014_2019_jan['Final Coefficient'].values"
   ]
  },
  {
   "cell_type": "code",
   "execution_count": 27,
   "metadata": {},
   "outputs": [],
   "source": [
    "from sklearn.cluster import KMeans\n",
    "kmeans = KMeans(n_clusters=20, n_init=10, random_state=0, max_iter=1000)\n",
    "\n",
    "wt_kmeansclus_0 = kmeans.fit(X,sample_weight = Y)\n",
    "predicted_kmeans_0 = kmeans.predict(X, sample_weight = Y)"
   ]
  },
  {
   "cell_type": "code",
   "execution_count": 29,
   "metadata": {},
   "outputs": [],
   "source": [
    "data1 = data_2020_jan.loc[:, ['Longitude', 'Latitude']]\n",
    "X1 = data1.values\n",
    "Y1 = data_2020_jan['Final Coefficient'].values"
   ]
  },
  {
   "cell_type": "code",
   "execution_count": 31,
   "metadata": {},
   "outputs": [],
   "source": [
    "kmeans = KMeans(n_clusters=20, n_init=10, random_state=0, max_iter=1000)\n",
    "\n",
    "wt_kmeansclus_1 = kmeans.fit(X1,sample_weight = Y1)\n",
    "predicted_kmeans_1 = kmeans.predict(X1, sample_weight = Y1)"
   ]
  },
  {
   "cell_type": "code",
   "execution_count": 9,
   "metadata": {},
   "outputs": [],
   "source": [
    "def calculate_clusters_distance(cluster_centers_0, cluster_centers_1):\n",
    "    x = 0 \n",
    "    distances = []\n",
    "    final_distances = []\n",
    "    for item in cluster_centers_0: \n",
    "        lon1 = item[0]\n",
    "        lat1 = item[1]\n",
    "        for item in cluster_centers_1:\n",
    "            lon2 = item[0]\n",
    "            lat2 = item[1]\n",
    "            distances.append(haversine(lon1, lat1, lon2, lat2))\n",
    "        final_distances.append(min(distances))\n",
    "        distances = []\n",
    "    return sum(final_distances)/len(final_distances)"
   ]
  },
  {
   "cell_type": "code",
   "execution_count": 12,
   "metadata": {},
   "outputs": [],
   "source": [
    "from tqdm import tqdm\n",
    "def calculate_inter_cluster_distance(predicted_kmeans, data): \n",
    "    mask_cluster = predicted_kmeans == 1\n",
    "    masked_data = data[mask_cluster]\n",
    "    subset = masked_data[['Longitude', 'Latitude']]\n",
    "    tuples = [x for x in subset.to_numpy()]\n",
    "    temp_distance = []\n",
    "    max_distance = []\n",
    "    pbar = tqdm()\n",
    "    for item in tuples: \n",
    "        for item2 in tuples: \n",
    "            temp_distance.append(haversine(item[0], item[1], item2[0], item2[1]))\n",
    "        max_distance.append(max(temp_distance))\n",
    "        pbar.update(1)\n",
    "        temp_distance = []\n",
    "    return max(max_distance)\n"
   ]
  },
  {
   "cell_type": "code",
   "execution_count": 86,
   "metadata": {},
   "outputs": [
    {
     "name": "stdout",
     "output_type": "stream",
     "text": [
      "[0.2605914906490866, 0.3017977469926262, 0.1862330207873227, 0.12106457462517667, 0.1093317382018537, 0.06972306154073041, 0.12705825887162484, 0.03347806114129888, 0.279697302629873, 0.46196016875177504, 0.2113047667879458, 0.04462589336803614, 0.08082416269792732, 0.20293390063865988, 0.0394114271379283, 0.21341123925029198, 0.09881725184788649, 0.18995144519267262, 0.49588414096603967, 0.09974031801214667]\n",
      "[[ 1.10248894e-01  5.14773784e+01]\n",
      " [-1.35637218e-01  5.15210237e+01]\n",
      " [-2.80899053e-01  5.15250197e+01]\n",
      " [-8.92155632e-02  5.13813564e+01]\n",
      " [-6.17892301e-02  5.15342521e+01]\n",
      " [-2.36675406e-01  5.15892076e+01]\n",
      " [ 8.25655316e-02  5.15560347e+01]\n",
      " [-3.75171992e-01  5.14724511e+01]\n",
      " [-1.69788017e-02  5.14606816e+01]\n",
      " [-1.76677422e-01  5.14120183e+01]\n",
      " [-1.19468549e-01  5.15927930e+01]\n",
      " [-4.45468121e-01  5.15238047e+01]\n",
      " [ 1.84391790e-01  5.15668367e+01]\n",
      " [-3.55713607e-01  5.15706131e+01]\n",
      " [ 9.22624138e-03  5.15401296e+01]\n",
      " [ 5.69902597e-02  5.14021004e+01]\n",
      " [-1.99129593e-01  5.15094697e+01]\n",
      " [-5.26009459e-02  5.16225631e+01]\n",
      " [-1.01885164e-01  5.14717562e+01]\n",
      " [-2.83385074e-01  5.14176890e+01]]\n"
     ]
    }
   ],
   "source": [
    "calculate_clusters_distance(wt_kmeansclus_0.cluster_centers_, wt_kmeansclus_1.cluster_centers_)\n",
    "print(wt_kmeansclus_0.cluster_centers_)"
   ]
  },
  {
   "cell_type": "code",
   "execution_count": 114,
   "metadata": {},
   "outputs": [],
   "source": [
    "mask_2014_2018_2020 = [x.year == 2014 or x.year == 2015 or x.year == 2016 or x.year == 2017 or x.year == 2018 or x.year == 2020 for x in df_street_cleaned['Month']]\n",
    "data_2014_2018_2020 = df_street_cleaned[mask_2014_2018_2020]\n"
   ]
  },
  {
   "cell_type": "code",
   "execution_count": 47,
   "metadata": {},
   "outputs": [],
   "source": [
    "data = data_2014_2018_2020_jan.loc[:, ['Longitude', 'Latitude']]\n",
    "X = data.values\n",
    "Y = data_2014_2018_2020_jan['Final Coefficient'].values"
   ]
  },
  {
   "cell_type": "code",
   "execution_count": 48,
   "metadata": {},
   "outputs": [],
   "source": [
    "kmeans = KMeans(n_clusters=20, n_init=10, random_state=0, max_iter=1000)\n",
    "\n",
    "wt_kmeansclus_0 = kmeans.fit(X,sample_weight = Y)\n",
    "predicted_kmeans_0 = kmeans.predict(X, sample_weight = Y)"
   ]
  },
  {
   "cell_type": "code",
   "execution_count": 49,
   "metadata": {},
   "outputs": [],
   "source": [
    "mask_2019 = [x.year == 2019 for x in df_street_cleaned['Month']]\n",
    "data_2019 = df_street_cleaned[mask_2019]"
   ]
  },
  {
   "cell_type": "code",
   "execution_count": 54,
   "metadata": {},
   "outputs": [],
   "source": [
    "data = data_2019.loc[:, ['Longitude', 'Latitude']]\n",
    "X1 = data.values\n",
    "Y1 = data_2019['Final Coefficient'].values"
   ]
  },
  {
   "cell_type": "code",
   "execution_count": 55,
   "metadata": {},
   "outputs": [],
   "source": [
    "def final_algorithm(data_train, data_test): \n",
    "\n",
    "    mask_jan = [x.month == 3 for x in data_train['Month']]\n",
    "    data_train_jan = data_train[mask_jan]\n",
    "\n",
    "    data_x = data_train_jan.loc[:, ['Longitude', 'Latitude']]\n",
    "    X = data_x.values\n",
    "    Y = data_train_jan['Final Coefficient'].values\n",
    "\n",
    "    kmeans = KMeans(n_clusters=20, n_init=10, random_state=0, max_iter=1000)\n",
    "    wt_kmeansclus_0 = kmeans.fit(X,sample_weight = Y)\n",
    "    predicted_kmeans_0 = kmeans.predict(X, sample_weight = Y)\n",
    "\n",
    "    mask_test_jan = [x.month == 3 for x in data_test['Month']]\n",
    "    data_test_jan = data_test[mask_test_jan]\n",
    "\n",
    "    data_test_x = data_test_jan.loc[:, ['Longitude', 'Latitude']]\n",
    "    X1 = data_test_x.values\n",
    "    Y1 = data_test_jan['Final Coefficient'].values\n",
    "\n",
    "    kmeans = KMeans(n_clusters=20, n_init=10, random_state=0, max_iter=1000)\n",
    "    wt_kmeansclus_1 = kmeans.fit(X1,sample_weight = Y1)\n",
    "    predicted_kmeans_1 = kmeans.predict(X1, sample_weight = Y1)\n",
    "\n",
    "    cluster_distance = calculate_clusters_distance(wt_kmeansclus_0.cluster_centers_, wt_kmeansclus_1.cluster_centers_)\n",
    "    inter_cluster_distance = calculate_inter_cluster_distance(predicted_kmeans_1, data_test_jan)\n",
    "\n",
    "    return cluster_distance, inter_cluster_distance\n",
    "\n"
   ]
  },
  {
   "cell_type": "code",
   "execution_count": 5,
   "metadata": {},
   "outputs": [],
   "source": [
    "mask_2020 = [x.year == 2020 for x in df_street_cleaned['Month']]\n",
    "data_2020 = df_street_cleaned[mask_2020]\n",
    "\n",
    "mask_2014_2019 = [x.year == 2014 or x.year == 2015 or x.year == 2016 or x.year == 2017 or x.year == 2018 or x.year == 2019 for x in df_street_cleaned['Month']]\n",
    "data_2014_2019 = df_street_cleaned[mask_2014_2019]"
   ]
  },
  {
   "cell_type": "code",
   "execution_count": 48,
   "metadata": {},
   "outputs": [
    {
     "name": "stderr",
     "output_type": "stream",
     "text": [
      "5683it [00:21, 264.25it/s]\n"
     ]
    },
    {
     "data": {
      "text/plain": [
       "(1.4190761859414176, 10.948961957204878)"
      ]
     },
     "execution_count": 48,
     "metadata": {},
     "output_type": "execute_result"
    }
   ],
   "source": [
    "final_algorithm(data_2014_2019, data_2020)"
   ]
  },
  {
   "cell_type": "code",
   "execution_count": 16,
   "metadata": {},
   "outputs": [],
   "source": [
    "mask_2019 = [x.year == 2019 for x in df_street_cleaned['Month']]\n",
    "data_2019 = df_street_cleaned[mask_2019]\n",
    "\n",
    "mask_2014_2018_2020 = [x.year == 2014 or x.year == 2015 or x.year == 2016 or x.year == 2017 or x.year == 2018 or x.year == 2020 for x in df_street_cleaned['Month']]\n",
    "data_2014_2018_2020 = df_street_cleaned[mask_2014_2018_2020]"
   ]
  },
  {
   "cell_type": "code",
   "execution_count": 49,
   "metadata": {},
   "outputs": [
    {
     "name": "stderr",
     "output_type": "stream",
     "text": [
      "5922it [00:23, 254.67it/s]\n"
     ]
    },
    {
     "data": {
      "text/plain": [
       "(1.1286666373764052, 10.154303828099719)"
      ]
     },
     "execution_count": 49,
     "metadata": {},
     "output_type": "execute_result"
    }
   ],
   "source": [
    "final_algorithm(data_2014_2018_2020, data_2019)"
   ]
  },
  {
   "cell_type": "code",
   "execution_count": 18,
   "metadata": {},
   "outputs": [],
   "source": [
    "mask_2018 = [x.year == 2018 for x in df_street_cleaned['Month']]\n",
    "data_2018 = df_street_cleaned[mask_2018]\n",
    "\n",
    "mask_2 = [x.year == 2014 or x.year == 2015 or x.year == 2016 or x.year == 2017 or x.year == 2019 or x.year == 2020 for x in df_street_cleaned['Month']]\n",
    "data_2 = df_street_cleaned[mask_2]"
   ]
  },
  {
   "cell_type": "code",
   "execution_count": 50,
   "metadata": {},
   "outputs": [
    {
     "name": "stderr",
     "output_type": "stream",
     "text": [
      "5698it [00:22, 254.11it/s]\n"
     ]
    },
    {
     "data": {
      "text/plain": [
       "(1.9396444239094968, 11.107602838667468)"
      ]
     },
     "execution_count": 50,
     "metadata": {},
     "output_type": "execute_result"
    }
   ],
   "source": [
    "final_algorithm(data_2, data_2018)"
   ]
  },
  {
   "cell_type": "code",
   "execution_count": 20,
   "metadata": {},
   "outputs": [],
   "source": [
    "mask_2017 = [x.year == 2017 for x in df_street_cleaned['Month']]\n",
    "data_2017 = df_street_cleaned[mask_2017]\n",
    "\n",
    "mask_3 = [x.year == 2014 or x.year == 2015 or x.year == 2016 or x.year == 2018 or x.year == 2019 or x.year == 2020 for x in df_street_cleaned['Month']]\n",
    "data_3 = df_street_cleaned[mask_3]"
   ]
  },
  {
   "cell_type": "code",
   "execution_count": 57,
   "metadata": {},
   "outputs": [
    {
     "name": "stderr",
     "output_type": "stream",
     "text": [
      "7762it [00:39, 194.63it/s]\n"
     ]
    },
    {
     "data": {
      "text/plain": [
       "(0.9419951253894963, 13.094557690631028)"
      ]
     },
     "execution_count": 57,
     "metadata": {},
     "output_type": "execute_result"
    }
   ],
   "source": [
    "final_algorithm(data_3, data_2017)"
   ]
  },
  {
   "cell_type": "code",
   "execution_count": 58,
   "metadata": {},
   "outputs": [],
   "source": [
    "mask_2016 = [x.year == 2016 for x in df_street_cleaned['Month']]\n",
    "data_2016 = df_street_cleaned[mask_2016]\n",
    "\n",
    "mask_4 = [x.year == 2014 or x.year == 2015 or x.year == 2017 or x.year == 2018 or x.year == 2019 or x.year == 2020 for x in df_street_cleaned['Month']]\n",
    "data_4 = df_street_cleaned[mask_4]"
   ]
  },
  {
   "cell_type": "code",
   "execution_count": 59,
   "metadata": {},
   "outputs": [
    {
     "name": "stderr",
     "output_type": "stream",
     "text": [
      "4924it [00:16, 301.70it/s]\n"
     ]
    },
    {
     "data": {
      "text/plain": [
       "(1.3036492026908157, 10.097750434693449)"
      ]
     },
     "execution_count": 59,
     "metadata": {},
     "output_type": "execute_result"
    }
   ],
   "source": [
    "final_algorithm(data_4, data_2016)"
   ]
  },
  {
   "cell_type": "code",
   "execution_count": 60,
   "metadata": {},
   "outputs": [],
   "source": [
    "mask_2015 = [x.year == 2015 for x in df_street_cleaned['Month']]\n",
    "data_2015 = df_street_cleaned[mask_2015]\n",
    "\n",
    "mask_5 = [x.year == 2014 or x.year == 2016 or x.year == 2017 or x.year == 2018 or x.year == 2019 or x.year == 2020 for x in df_street_cleaned['Month']]\n",
    "data_5 = df_street_cleaned[mask_5]"
   ]
  },
  {
   "cell_type": "code",
   "execution_count": 61,
   "metadata": {},
   "outputs": [
    {
     "name": "stderr",
     "output_type": "stream",
     "text": [
      "5426it [00:19, 271.53it/s]\n"
     ]
    },
    {
     "data": {
      "text/plain": [
       "(1.2198003697761832, 9.638522585652053)"
      ]
     },
     "execution_count": 61,
     "metadata": {},
     "output_type": "execute_result"
    }
   ],
   "source": [
    "final_algorithm(data_5, data_2015)"
   ]
  },
  {
   "cell_type": "code",
   "execution_count": 62,
   "metadata": {},
   "outputs": [],
   "source": [
    "mask_2014 = [x.year == 2014 for x in df_street_cleaned['Month']]\n",
    "data_2014 = df_street_cleaned[mask_2014]\n",
    "\n",
    "mask_6 = [x.year == 2015 or x.year == 2016 or x.year == 2017 or x.year == 2018 or x.year == 2019 or x.year == 2020 for x in df_street_cleaned['Month']]\n",
    "data_6 = df_street_cleaned[mask_6]"
   ]
  },
  {
   "cell_type": "code",
   "execution_count": 63,
   "metadata": {},
   "outputs": [
    {
     "name": "stderr",
     "output_type": "stream",
     "text": [
      "5639it [00:21, 259.87it/s]\n"
     ]
    },
    {
     "data": {
      "text/plain": [
       "(1.2554272830678994, 10.4852882959843)"
      ]
     },
     "execution_count": 63,
     "metadata": {},
     "output_type": "execute_result"
    }
   ],
   "source": [
    "final_algorithm(data_6, data_2014)"
   ]
  }
 ],
 "metadata": {
  "interpreter": {
   "hash": "aee8b7b246df8f9039afb4144a1f6fd8d2ca17a180786b69acc140d282b71a49"
  },
  "kernelspec": {
   "display_name": "Python 3.10.2 64-bit",
   "language": "python",
   "name": "python3"
  },
  "language_info": {
   "codemirror_mode": {
    "name": "ipython",
    "version": 3
   },
   "file_extension": ".py",
   "mimetype": "text/x-python",
   "name": "python",
   "nbconvert_exporter": "python",
   "pygments_lexer": "ipython3",
   "version": "3.10.2"
  },
  "orig_nbformat": 4
 },
 "nbformat": 4,
 "nbformat_minor": 2
}
