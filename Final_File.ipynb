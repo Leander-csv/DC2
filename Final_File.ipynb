{
 "cells": [
  {
   "cell_type": "markdown",
   "metadata": {},
   "source": [
    "## Line total files per month"
   ]
  },
  {
   "cell_type": "code",
   "execution_count": 6,
   "metadata": {},
   "outputs": [],
   "source": [
    "import pandas as pd \n",
    "import sqlite3\n",
    "import numpy as np\n",
    "import matplotlib.pyplot as plt\n",
    "from sklearn import linear_model\n",
    "import seaborn as sns\n"
   ]
  },
  {
   "cell_type": "code",
   "execution_count": 8,
   "metadata": {},
   "outputs": [],
   "source": [
    "df_street = pd.read_csv('data/metro_street.csv')"
   ]
  },
  {
   "cell_type": "code",
   "execution_count": 9,
   "metadata": {},
   "outputs": [],
   "source": [
    "df_street.dropna(subset=['Borough'], inplace=True)"
   ]
  },
  {
   "cell_type": "code",
   "execution_count": 174,
   "metadata": {},
   "outputs": [],
   "source": [
    "#districts_to_include = df_street[df_street['LSOA name'].str.startswith(\"City\")]['LSOA name'].unique()"
   ]
  },
  {
   "cell_type": "code",
   "execution_count": 175,
   "metadata": {},
   "outputs": [],
   "source": [
    "#df_street_cleaned = df_street[df_street['LSOA name'].isin(districts_to_include)]"
   ]
  },
  {
   "cell_type": "code",
   "execution_count": 11,
   "metadata": {},
   "outputs": [],
   "source": [
    "df_street_cleaned = df_street.drop(columns=['Last outcome category'])\n",
    "df_street_cleaned = df_street_cleaned[df_street_cleaned['Crime type'] != 'Possession of weapons']"
   ]
  },
  {
   "cell_type": "code",
   "execution_count": 12,
   "metadata": {},
   "outputs": [],
   "source": [
    "df_street_cleaned['Month'] = pd.to_datetime(df_street_cleaned['Month'])"
   ]
  },
  {
   "cell_type": "code",
   "execution_count": 13,
   "metadata": {},
   "outputs": [],
   "source": [
    "monthly_dict = {}\n",
    "\n",
    "for month in df_street_cleaned['Month'].dt.month_name().unique():\n",
    "    df_month = df_street_cleaned[df_street_cleaned['Month'].dt.month_name() == month]\n",
    "    monthly_dict[month] = {}\n",
    "    for lsoa in df_month['Borough'].unique():\n",
    "        df_lsoa = df_month[df_month['Borough'] == lsoa]\n",
    "        crimes_per_year = df_lsoa.groupby(df_lsoa['Month'].dt.year).count().Month \n",
    "        X = crimes_per_year.index.values.reshape(-1, 1)\n",
    "        y = crimes_per_year\n",
    "\n",
    "        model = linear_model.LinearRegression().fit(X, y)\n",
    "        monthly_dict[month][lsoa] = model.coef_\n",
    "\n",
    "\n",
    "\n",
    "\n",
    "    \n"
   ]
  },
  {
   "cell_type": "code",
   "execution_count": 14,
   "metadata": {},
   "outputs": [],
   "source": [
    "crime_index = pd.read_csv('updated_crime_index.csv')"
   ]
  },
  {
   "cell_type": "code",
   "execution_count": 15,
   "metadata": {},
   "outputs": [],
   "source": [
    "crime_dict = pd.Series(crime_index['CCHI Score'].values,index=crime_index['SUB_GROUP']).to_dict()"
   ]
  },
  {
   "cell_type": "code",
   "execution_count": 16,
   "metadata": {},
   "outputs": [
    {
     "data": {
      "text/plain": [
       "{'Anti-social behaviour': 37.833333333333336,\n",
       " 'Bicycle theft': 2.0,\n",
       " 'Burglary': 314.0,\n",
       " 'Criminal damage and arson': 96.6086956521739,\n",
       " 'Drugs': 281.8510638297872,\n",
       " 'Other crime': 5.002542372881355,\n",
       " 'Other theft': 34.458333333333336,\n",
       " 'Public disorder and weapons': 182.0,\n",
       " 'Public order': 71.32432432432432,\n",
       " 'Robbery': 365.0,\n",
       " 'Shoplifting': 1.0,\n",
       " 'Theft from the person': 2.0,\n",
       " 'Vehicle crime': 6.833333333333333,\n",
       " 'Violence and sexual offences': 644.2727272727273,\n",
       " 'Violent crime': 1196.5636363636363}"
      ]
     },
     "execution_count": 16,
     "metadata": {},
     "output_type": "execute_result"
    }
   ],
   "source": [
    "crime_dict"
   ]
  },
  {
   "cell_type": "code",
   "execution_count": 17,
   "metadata": {},
   "outputs": [],
   "source": [
    "df_street_cleaned['Crime Score'] = df_street_cleaned['Crime type'].replace(crime_dict)\t"
   ]
  },
  {
   "cell_type": "code",
   "execution_count": 19,
   "metadata": {},
   "outputs": [],
   "source": [
    "coef_list = []\n",
    "for index, row in df_street_cleaned.iterrows():\n",
    "    coef = monthly_dict[row['Month'].month_name()][row['Borough']]\n",
    "    coef_list.append(coef)\n",
    "df_street_cleaned['Coefficient'] = coef_list"
   ]
  },
  {
   "cell_type": "code",
   "execution_count": 20,
   "metadata": {},
   "outputs": [],
   "source": [
    "df_street_cleaned['Coefficient'] = df_street_cleaned['Coefficient'].astype('float')"
   ]
  },
  {
   "cell_type": "code",
   "execution_count": 21,
   "metadata": {},
   "outputs": [],
   "source": [
    "from sklearn.preprocessing import MinMaxScaler\n",
    "scaler = MinMaxScaler()\n",
    "df_street_cleaned[['Crime Score', 'Coefficient']] = scaler.fit_transform(df_street_cleaned[['Crime Score', 'Coefficient']])"
   ]
  },
  {
   "cell_type": "code",
   "execution_count": 22,
   "metadata": {},
   "outputs": [],
   "source": [
    "df_street_cleaned['Final Coefficient'] = df_street_cleaned['Crime Score'] * df_street_cleaned['Coefficient']"
   ]
  },
  {
   "cell_type": "code",
   "execution_count": 23,
   "metadata": {},
   "outputs": [],
   "source": [
    "scaler = MinMaxScaler()\n",
    "df_street_cleaned['Final Coefficient'] = scaler.fit_transform(df_street_cleaned['Final Coefficient'].values.reshape(-1, 1))"
   ]
  },
  {
   "cell_type": "code",
   "execution_count": 24,
   "metadata": {},
   "outputs": [
    {
     "data": {
      "text/html": [
       "<div>\n",
       "<style scoped>\n",
       "    .dataframe tbody tr th:only-of-type {\n",
       "        vertical-align: middle;\n",
       "    }\n",
       "\n",
       "    .dataframe tbody tr th {\n",
       "        vertical-align: top;\n",
       "    }\n",
       "\n",
       "    .dataframe thead th {\n",
       "        text-align: right;\n",
       "    }\n",
       "</style>\n",
       "<table border=\"1\" class=\"dataframe\">\n",
       "  <thead>\n",
       "    <tr style=\"text-align: right;\">\n",
       "      <th></th>\n",
       "      <th>Crime ID</th>\n",
       "      <th>Month</th>\n",
       "      <th>Reported by</th>\n",
       "      <th>Falls within</th>\n",
       "      <th>Longitude</th>\n",
       "      <th>Latitude</th>\n",
       "      <th>Location</th>\n",
       "      <th>LSOA code</th>\n",
       "      <th>LSOA name</th>\n",
       "      <th>Crime type</th>\n",
       "      <th>Borough</th>\n",
       "      <th>BCU</th>\n",
       "      <th>Crime Score</th>\n",
       "      <th>Coefficient</th>\n",
       "      <th>Final Coefficient</th>\n",
       "    </tr>\n",
       "  </thead>\n",
       "  <tbody>\n",
       "    <tr>\n",
       "      <th>0</th>\n",
       "      <td>NaN</td>\n",
       "      <td>2014-06-01</td>\n",
       "      <td>Metropolitan Police Service</td>\n",
       "      <td>Metropolitan Police Service</td>\n",
       "      <td>0.133181</td>\n",
       "      <td>51.586719</td>\n",
       "      <td>On or near Rosehatch Avenue</td>\n",
       "      <td>E01000027</td>\n",
       "      <td>Barking and Dagenham 001A</td>\n",
       "      <td>Anti-social behaviour</td>\n",
       "      <td>Barking and Dagenham</td>\n",
       "      <td>EA - East Area</td>\n",
       "      <td>0.030808</td>\n",
       "      <td>0.390762</td>\n",
       "      <td>0.012039</td>\n",
       "    </tr>\n",
       "    <tr>\n",
       "      <th>1</th>\n",
       "      <td>NaN</td>\n",
       "      <td>2014-06-01</td>\n",
       "      <td>Metropolitan Police Service</td>\n",
       "      <td>Metropolitan Police Service</td>\n",
       "      <td>0.134947</td>\n",
       "      <td>51.588063</td>\n",
       "      <td>On or near Mead Grove</td>\n",
       "      <td>E01000027</td>\n",
       "      <td>Barking and Dagenham 001A</td>\n",
       "      <td>Anti-social behaviour</td>\n",
       "      <td>Barking and Dagenham</td>\n",
       "      <td>EA - East Area</td>\n",
       "      <td>0.030808</td>\n",
       "      <td>0.390762</td>\n",
       "      <td>0.012039</td>\n",
       "    </tr>\n",
       "    <tr>\n",
       "      <th>2</th>\n",
       "      <td>7b80615f37c236b21945720f533e79857ef85ccecdb23f...</td>\n",
       "      <td>2014-06-01</td>\n",
       "      <td>Metropolitan Police Service</td>\n",
       "      <td>Metropolitan Police Service</td>\n",
       "      <td>0.140634</td>\n",
       "      <td>51.583427</td>\n",
       "      <td>On or near Rams Grove</td>\n",
       "      <td>E01000027</td>\n",
       "      <td>Barking and Dagenham 001A</td>\n",
       "      <td>Burglary</td>\n",
       "      <td>Barking and Dagenham</td>\n",
       "      <td>EA - East Area</td>\n",
       "      <td>0.261801</td>\n",
       "      <td>0.390762</td>\n",
       "      <td>0.102302</td>\n",
       "    </tr>\n",
       "    <tr>\n",
       "      <th>3</th>\n",
       "      <td>a912be379fe71146d71cf88a6f084fe839ff915ae321fc...</td>\n",
       "      <td>2014-06-01</td>\n",
       "      <td>Metropolitan Police Service</td>\n",
       "      <td>Metropolitan Police Service</td>\n",
       "      <td>0.140634</td>\n",
       "      <td>51.583427</td>\n",
       "      <td>On or near Rams Grove</td>\n",
       "      <td>E01000027</td>\n",
       "      <td>Barking and Dagenham 001A</td>\n",
       "      <td>Burglary</td>\n",
       "      <td>Barking and Dagenham</td>\n",
       "      <td>EA - East Area</td>\n",
       "      <td>0.261801</td>\n",
       "      <td>0.390762</td>\n",
       "      <td>0.102302</td>\n",
       "    </tr>\n",
       "    <tr>\n",
       "      <th>4</th>\n",
       "      <td>6709de471673a064c504fbc556488474d2f8acacfc360f...</td>\n",
       "      <td>2014-06-01</td>\n",
       "      <td>Metropolitan Police Service</td>\n",
       "      <td>Metropolitan Police Service</td>\n",
       "      <td>0.135866</td>\n",
       "      <td>51.587336</td>\n",
       "      <td>On or near Gibbfield Close</td>\n",
       "      <td>E01000027</td>\n",
       "      <td>Barking and Dagenham 001A</td>\n",
       "      <td>Criminal damage and arson</td>\n",
       "      <td>Barking and Dagenham</td>\n",
       "      <td>EA - East Area</td>\n",
       "      <td>0.079970</td>\n",
       "      <td>0.390762</td>\n",
       "      <td>0.031249</td>\n",
       "    </tr>\n",
       "    <tr>\n",
       "      <th>...</th>\n",
       "      <td>...</td>\n",
       "      <td>...</td>\n",
       "      <td>...</td>\n",
       "      <td>...</td>\n",
       "      <td>...</td>\n",
       "      <td>...</td>\n",
       "      <td>...</td>\n",
       "      <td>...</td>\n",
       "      <td>...</td>\n",
       "      <td>...</td>\n",
       "      <td>...</td>\n",
       "      <td>...</td>\n",
       "      <td>...</td>\n",
       "      <td>...</td>\n",
       "      <td>...</td>\n",
       "    </tr>\n",
       "    <tr>\n",
       "      <th>6634694</th>\n",
       "      <td>99699d830bae51b6128f0634de7e8359882fd3aa906626...</td>\n",
       "      <td>2019-01-01</td>\n",
       "      <td>Metropolitan Police Service</td>\n",
       "      <td>Metropolitan Police Service</td>\n",
       "      <td>-0.134389</td>\n",
       "      <td>51.488872</td>\n",
       "      <td>On or near Lupus Street</td>\n",
       "      <td>E01004741</td>\n",
       "      <td>Westminster 024F</td>\n",
       "      <td>Public order</td>\n",
       "      <td>Westminster</td>\n",
       "      <td>AW - Central West</td>\n",
       "      <td>0.058821</td>\n",
       "      <td>0.717159</td>\n",
       "      <td>0.042184</td>\n",
       "    </tr>\n",
       "    <tr>\n",
       "      <th>6634695</th>\n",
       "      <td>d498e225f0a17eec369d6137fc85ae6aee406d9cb236e8...</td>\n",
       "      <td>2019-01-01</td>\n",
       "      <td>Metropolitan Police Service</td>\n",
       "      <td>Metropolitan Police Service</td>\n",
       "      <td>-0.135532</td>\n",
       "      <td>51.489097</td>\n",
       "      <td>On or near St George'S Square</td>\n",
       "      <td>E01004741</td>\n",
       "      <td>Westminster 024F</td>\n",
       "      <td>Public order</td>\n",
       "      <td>Westminster</td>\n",
       "      <td>AW - Central West</td>\n",
       "      <td>0.058821</td>\n",
       "      <td>0.717159</td>\n",
       "      <td>0.042184</td>\n",
       "    </tr>\n",
       "    <tr>\n",
       "      <th>6634696</th>\n",
       "      <td>b4d8096c87e49db53dd334a0053dfa88232f946748d7f9...</td>\n",
       "      <td>2019-01-01</td>\n",
       "      <td>Metropolitan Police Service</td>\n",
       "      <td>Metropolitan Police Service</td>\n",
       "      <td>-0.134389</td>\n",
       "      <td>51.488872</td>\n",
       "      <td>On or near Lupus Street</td>\n",
       "      <td>E01004741</td>\n",
       "      <td>Westminster 024F</td>\n",
       "      <td>Public order</td>\n",
       "      <td>Westminster</td>\n",
       "      <td>AW - Central West</td>\n",
       "      <td>0.058821</td>\n",
       "      <td>0.717159</td>\n",
       "      <td>0.042184</td>\n",
       "    </tr>\n",
       "    <tr>\n",
       "      <th>6634697</th>\n",
       "      <td>b4d8096c87e49db53dd334a0053dfa88232f946748d7f9...</td>\n",
       "      <td>2019-01-01</td>\n",
       "      <td>Metropolitan Police Service</td>\n",
       "      <td>Metropolitan Police Service</td>\n",
       "      <td>-0.134389</td>\n",
       "      <td>51.488872</td>\n",
       "      <td>On or near Lupus Street</td>\n",
       "      <td>E01004741</td>\n",
       "      <td>Westminster 024F</td>\n",
       "      <td>Shoplifting</td>\n",
       "      <td>Westminster</td>\n",
       "      <td>AW - Central West</td>\n",
       "      <td>0.000000</td>\n",
       "      <td>0.717159</td>\n",
       "      <td>0.000000</td>\n",
       "    </tr>\n",
       "    <tr>\n",
       "      <th>6634698</th>\n",
       "      <td>48300a0125cbf743f4d3854169bb5b0a0bbec546079579...</td>\n",
       "      <td>2019-01-01</td>\n",
       "      <td>Metropolitan Police Service</td>\n",
       "      <td>Metropolitan Police Service</td>\n",
       "      <td>-0.134389</td>\n",
       "      <td>51.488872</td>\n",
       "      <td>On or near Lupus Street</td>\n",
       "      <td>E01004741</td>\n",
       "      <td>Westminster 024F</td>\n",
       "      <td>Other crime</td>\n",
       "      <td>Westminster</td>\n",
       "      <td>AW - Central West</td>\n",
       "      <td>0.003348</td>\n",
       "      <td>0.717159</td>\n",
       "      <td>0.002401</td>\n",
       "    </tr>\n",
       "  </tbody>\n",
       "</table>\n",
       "<p>6603662 rows × 15 columns</p>\n",
       "</div>"
      ],
      "text/plain": [
       "                                                  Crime ID      Month  \\\n",
       "0                                                      NaN 2014-06-01   \n",
       "1                                                      NaN 2014-06-01   \n",
       "2        7b80615f37c236b21945720f533e79857ef85ccecdb23f... 2014-06-01   \n",
       "3        a912be379fe71146d71cf88a6f084fe839ff915ae321fc... 2014-06-01   \n",
       "4        6709de471673a064c504fbc556488474d2f8acacfc360f... 2014-06-01   \n",
       "...                                                    ...        ...   \n",
       "6634694  99699d830bae51b6128f0634de7e8359882fd3aa906626... 2019-01-01   \n",
       "6634695  d498e225f0a17eec369d6137fc85ae6aee406d9cb236e8... 2019-01-01   \n",
       "6634696  b4d8096c87e49db53dd334a0053dfa88232f946748d7f9... 2019-01-01   \n",
       "6634697  b4d8096c87e49db53dd334a0053dfa88232f946748d7f9... 2019-01-01   \n",
       "6634698  48300a0125cbf743f4d3854169bb5b0a0bbec546079579... 2019-01-01   \n",
       "\n",
       "                         Reported by                 Falls within  Longitude  \\\n",
       "0        Metropolitan Police Service  Metropolitan Police Service   0.133181   \n",
       "1        Metropolitan Police Service  Metropolitan Police Service   0.134947   \n",
       "2        Metropolitan Police Service  Metropolitan Police Service   0.140634   \n",
       "3        Metropolitan Police Service  Metropolitan Police Service   0.140634   \n",
       "4        Metropolitan Police Service  Metropolitan Police Service   0.135866   \n",
       "...                              ...                          ...        ...   \n",
       "6634694  Metropolitan Police Service  Metropolitan Police Service  -0.134389   \n",
       "6634695  Metropolitan Police Service  Metropolitan Police Service  -0.135532   \n",
       "6634696  Metropolitan Police Service  Metropolitan Police Service  -0.134389   \n",
       "6634697  Metropolitan Police Service  Metropolitan Police Service  -0.134389   \n",
       "6634698  Metropolitan Police Service  Metropolitan Police Service  -0.134389   \n",
       "\n",
       "          Latitude                       Location  LSOA code  \\\n",
       "0        51.586719    On or near Rosehatch Avenue  E01000027   \n",
       "1        51.588063          On or near Mead Grove  E01000027   \n",
       "2        51.583427          On or near Rams Grove  E01000027   \n",
       "3        51.583427          On or near Rams Grove  E01000027   \n",
       "4        51.587336     On or near Gibbfield Close  E01000027   \n",
       "...            ...                            ...        ...   \n",
       "6634694  51.488872        On or near Lupus Street  E01004741   \n",
       "6634695  51.489097  On or near St George'S Square  E01004741   \n",
       "6634696  51.488872        On or near Lupus Street  E01004741   \n",
       "6634697  51.488872        On or near Lupus Street  E01004741   \n",
       "6634698  51.488872        On or near Lupus Street  E01004741   \n",
       "\n",
       "                         LSOA name                 Crime type  \\\n",
       "0        Barking and Dagenham 001A      Anti-social behaviour   \n",
       "1        Barking and Dagenham 001A      Anti-social behaviour   \n",
       "2        Barking and Dagenham 001A                   Burglary   \n",
       "3        Barking and Dagenham 001A                   Burglary   \n",
       "4        Barking and Dagenham 001A  Criminal damage and arson   \n",
       "...                            ...                        ...   \n",
       "6634694           Westminster 024F               Public order   \n",
       "6634695           Westminster 024F               Public order   \n",
       "6634696           Westminster 024F               Public order   \n",
       "6634697           Westminster 024F                Shoplifting   \n",
       "6634698           Westminster 024F                Other crime   \n",
       "\n",
       "                      Borough                BCU  Crime Score  Coefficient  \\\n",
       "0        Barking and Dagenham     EA - East Area     0.030808     0.390762   \n",
       "1        Barking and Dagenham     EA - East Area     0.030808     0.390762   \n",
       "2        Barking and Dagenham     EA - East Area     0.261801     0.390762   \n",
       "3        Barking and Dagenham     EA - East Area     0.261801     0.390762   \n",
       "4        Barking and Dagenham     EA - East Area     0.079970     0.390762   \n",
       "...                       ...                ...          ...          ...   \n",
       "6634694           Westminster  AW - Central West     0.058821     0.717159   \n",
       "6634695           Westminster  AW - Central West     0.058821     0.717159   \n",
       "6634696           Westminster  AW - Central West     0.058821     0.717159   \n",
       "6634697           Westminster  AW - Central West     0.000000     0.717159   \n",
       "6634698           Westminster  AW - Central West     0.003348     0.717159   \n",
       "\n",
       "         Final Coefficient  \n",
       "0                 0.012039  \n",
       "1                 0.012039  \n",
       "2                 0.102302  \n",
       "3                 0.102302  \n",
       "4                 0.031249  \n",
       "...                    ...  \n",
       "6634694           0.042184  \n",
       "6634695           0.042184  \n",
       "6634696           0.042184  \n",
       "6634697           0.000000  \n",
       "6634698           0.002401  \n",
       "\n",
       "[6603662 rows x 15 columns]"
      ]
     },
     "execution_count": 24,
     "metadata": {},
     "output_type": "execute_result"
    }
   ],
   "source": [
    "df_street_cleaned"
   ]
  },
  {
   "cell_type": "code",
   "execution_count": null,
   "metadata": {},
   "outputs": [],
   "source": [
    "data = df_street_cleaned.loc[:, ['Longitude', 'Latitude']]\n",
    "X = data.values\n",
    "Y = df_street_cleaned['Final Coefficient'].values"
   ]
  },
  {
   "cell_type": "code",
   "execution_count": null,
   "metadata": {},
   "outputs": [],
   "source": [
    "from sklearn.cluster import KMeans\n",
    "kmeans = KMeans(n_clusters=20, n_init=10, random_state=0, max_iter=1000)\n",
    "\n",
    "wt_kmeansclus = kmeans.fit(X,sample_weight = Y)\n",
    "predicted_kmeans = kmeans.predict(X, sample_weight = Y)\n"
   ]
  },
  {
   "cell_type": "code",
   "execution_count": null,
   "metadata": {},
   "outputs": [
    {
     "data": {
      "text/plain": [
       "array([-0.10952672, -0.104684  , -0.08790641, -1.621245  ,  0.63836621,\n",
       "       -0.07588026, -0.08286703, -0.060767  , -0.09717246,  0.326395  ,\n",
       "       -0.22030023, -0.10256937, -0.09448477, -0.00332634, -0.02292406,\n",
       "       -0.08954372, -0.07911926, -0.07436497, -0.08301777,  0.06214564])"
      ]
     },
     "execution_count": 220,
     "metadata": {},
     "output_type": "execute_result"
    }
   ],
   "source": [
    "wt_kmeansclus.cluster_centers_[:,0]"
   ]
  },
  {
   "cell_type": "code",
   "execution_count": null,
   "metadata": {},
   "outputs": [
    {
     "name": "stderr",
     "output_type": "stream",
     "text": [
      "C:\\Users\\20204502\\AppData\\Local\\Packages\\PythonSoftwareFoundation.Python.3.9_qbz5n2kfra8p0\\LocalCache\\local-packages\\Python39\\site-packages\\seaborn\\_decorators.py:36: FutureWarning: Pass the following variables as keyword args: x, y. From version 0.12, the only valid positional argument will be `data`, and passing other arguments without an explicit keyword will result in an error or misinterpretation.\n",
      "  warnings.warn(\n",
      "C:\\Users\\20204502\\AppData\\Local\\Packages\\PythonSoftwareFoundation.Python.3.9_qbz5n2kfra8p0\\LocalCache\\local-packages\\Python39\\site-packages\\seaborn\\_decorators.py:36: FutureWarning: Pass the following variables as keyword args: x, y. From version 0.12, the only valid positional argument will be `data`, and passing other arguments without an explicit keyword will result in an error or misinterpretation.\n",
      "  warnings.warn(\n"
     ]
    },
    {
     "data": {
      "image/png": "[encoded data removed]",
      "text/plain": [
       "<Figure size 432x288 with 1 Axes>"
      ]
     },
     "metadata": {
      "needs_background": "light"
     },
     "output_type": "display_data"
    }
   ],
   "source": [
    "clustering_plot = sns.scatterplot(X[:,0], X[:, 1], hue=kmeans)\n",
    "sns.scatterplot(wt_kmeansclus.cluster_centers_[:,0], wt_kmeansclus.cluster_centers_[:,1], s=21, color='y')\n",
    "plt.xlabel('Longitude')\n",
    "plt.ylabel('Latitude')\n",
    "plt.show()"
   ]
  }
 ],
 "metadata": {
  "interpreter": {
   "hash": "84124d46dd126ec8d7ff94d5f94a4fab5c1e6d48237b4564158d565a05f31086"
  },
  "kernelspec": {
   "display_name": "Python 3.9.12 64-bit (windows store)",
   "language": "python",
   "name": "python3"
  },
  "language_info": {
   "codemirror_mode": {
    "name": "ipython",
    "version": 3
   },
   "file_extension": ".py",
   "mimetype": "text/x-python",
   "name": "python",
   "nbconvert_exporter": "python",
   "pygments_lexer": "ipython3",
   "version": "3.9.12"
  },
  "orig_nbformat": 4
 },
 "nbformat": 4,
 "nbformat_minor": 2
}
