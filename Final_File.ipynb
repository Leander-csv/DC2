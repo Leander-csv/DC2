{
 "cells": [
  {
   "cell_type": "markdown",
   "metadata": {},
   "source": [
    "## Line total files per month"
   ]
  },
  {
   "cell_type": "code",
   "execution_count": null,
   "metadata": {},
   "outputs": [],
   "source": [
    "import pandas as pd \n",
    "import sqlite3\n",
    "import numpy as np\n",
    "import matplotlib.pyplot as plt\n",
    "from sklearn import linear_model\n",
    "import seaborn as sns\n"
   ]
  },
  {
   "cell_type": "code",
   "execution_count": null,
   "metadata": {},
   "outputs": [],
   "source": [
    "df_street = pd.read_csv('data/metro_street.csv')"
   ]
  },
  {
   "cell_type": "code",
   "execution_count": null,
   "metadata": {},
   "outputs": [],
   "source": [
    "df_street.dropna(subset=['Borough'], inplace=True)"
   ]
  },
  {
   "cell_type": "code",
   "execution_count": null,
   "metadata": {},
   "outputs": [],
   "source": [
    "#districts_to_include = df_street[df_street['LSOA name'].str.startswith(\"City\")]['LSOA name'].unique()"
   ]
  },
  {
   "cell_type": "code",
   "execution_count": null,
   "metadata": {},
   "outputs": [],
   "source": [
    "#df_street_cleaned = df_street[df_street['LSOA name'].isin(districts_to_include)]"
   ]
  },
  {
   "cell_type": "code",
   "execution_count": null,
   "metadata": {},
   "outputs": [],
   "source": [
    "df_street_cleaned = df_street.drop(columns=['Last outcome category'])\n",
    "df_street_cleaned = df_street_cleaned[df_street_cleaned['Crime type'] != 'Possession of weapons']"
   ]
  },
  {
   "cell_type": "code",
   "execution_count": null,
   "metadata": {},
   "outputs": [],
   "source": [
    "df_street_cleaned['Month'] = pd.to_datetime(df_street_cleaned['Month'])"
   ]
  },
  {
   "cell_type": "code",
   "execution_count": null,
   "metadata": {},
   "outputs": [],
   "source": [
    "monthly_dict = {}\n",
    "\n",
    "for month in df_street_cleaned['Month'].dt.month_name().unique():\n",
    "    df_month = df_street_cleaned[df_street_cleaned['Month'].dt.month_name() == month]\n",
    "    monthly_dict[month] = {}\n",
    "    for lsoa in df_month['Borough'].unique():\n",
    "        df_lsoa = df_month[df_month['Borough'] == lsoa]\n",
    "        crimes_per_year = df_lsoa.groupby(df_lsoa['Month'].dt.year).count().Month \n",
    "        X = crimes_per_year.index.values.reshape(-1, 1)\n",
    "        y = crimes_per_year\n",
    "\n",
    "        model = linear_model.LinearRegression().fit(X, y)\n",
    "        monthly_dict[month][lsoa] = model.coef_\n",
    "\n",
    "\n",
    "\n",
    "\n",
    "    \n"
   ]
  },
  {
   "cell_type": "code",
   "execution_count": null,
   "metadata": {},
   "outputs": [],
   "source": [
    "crime_index = pd.read_csv('updated_crime_index.csv')"
   ]
  },
  {
   "cell_type": "code",
   "execution_count": null,
   "metadata": {},
   "outputs": [],
   "source": [
    "crime_dict = pd.Series(crime_index['CCHI Score'].values,index=crime_index['SUB_GROUP']).to_dict()"
   ]
  },
  {
   "cell_type": "code",
   "execution_count": null,
   "metadata": {},
   "outputs": [],
   "source": [
    "crime_dict"
   ]
  },
  {
   "cell_type": "code",
   "execution_count": null,
   "metadata": {},
   "outputs": [],
   "source": [
    "df_street_cleaned['Crime Score'] = df_street_cleaned['Crime type'].replace(crime_dict)\t"
   ]
  },
  {
   "cell_type": "code",
   "execution_count": null,
   "metadata": {},
   "outputs": [],
   "source": [
    "coef_list = []\n",
    "for index, row in df_street_cleaned.iterrows():\n",
    "    coef = monthly_dict[row['Month'].month_name()][row['Borough']]\n",
    "    coef_list.append(coef)\n",
    "df_street_cleaned['Coefficient'] = coef_list"
   ]
  },
  {
   "cell_type": "code",
   "execution_count": null,
   "metadata": {},
   "outputs": [],
   "source": [
    "df_street_cleaned['Coefficient'] = df_street_cleaned['Coefficient'].astype('float')"
   ]
  },
  {
   "cell_type": "code",
   "execution_count": null,
   "metadata": {},
   "outputs": [],
   "source": [
    "from sklearn.preprocessing import MinMaxScaler\n",
    "scaler = MinMaxScaler()\n",
    "df_street_cleaned[['Crime Score', 'Coefficient']] = scaler.fit_transform(df_street_cleaned[['Crime Score', 'Coefficient']])"
   ]
  },
  {
   "cell_type": "code",
   "execution_count": null,
   "metadata": {},
   "outputs": [],
   "source": [
    "df_street_cleaned['Final Coefficient'] = df_street_cleaned['Crime Score'] * df_street_cleaned['Coefficient']"
   ]
  },
  {
   "cell_type": "code",
   "execution_count": null,
   "metadata": {},
   "outputs": [],
   "source": [
    "scaler = MinMaxScaler()\n",
    "df_street_cleaned['Final Coefficient'] = scaler.fit_transform(df_street_cleaned['Final Coefficient'].values.reshape(-1, 1))"
   ]
  },
  {
   "cell_type": "code",
   "execution_count": null,
   "metadata": {},
   "outputs": [],
   "source": [
    "df_street_cleaned = pd.read_csv('final_street.csv')"
   ]
  },
  {
   "cell_type": "code",
   "execution_count": null,
   "metadata": {},
   "outputs": [],
   "source": [
    "df_street_cleaned['Month'] = pd.to_datetime(df_street_cleaned['Month'])"
   ]
  },
  {
   "cell_type": "code",
   "execution_count": null,
   "metadata": {},
   "outputs": [],
   "source": [
    "data = df_street_cleaned[(df_street_cleaned['Month'].dt.month_name() == 'January')| (df_street_cleaned['Month'].dt.year == 2019)]\n",
    "data = data.loc[:, ['Longitude', 'Latitude', 'Final Coefficient']]\n",
    "X = data.loc[:, ['Longitude', 'Latitude']].values\n",
    "Y = data['Final Coefficient'].values"
   ]
  },
  {
   "cell_type": "code",
   "execution_count": null,
   "metadata": {},
   "outputs": [],
   "source": [
    "from sklearn.cluster import KMeans\n",
    "kmeans = KMeans(n_clusters=20, n_init=10, random_state=0, max_iter=1000)\n",
    "\n",
    "wt_kmeansclus = kmeans.fit(X,sample_weight = Y)\n",
    "predicted_kmeans = kmeans.predict(X, sample_weight = Y)\n"
   ]
  },
  {
   "cell_type": "code",
   "execution_count": null,
   "metadata": {},
   "outputs": [],
   "source": [
    "wt_kmeansclus.cluster_centers_[:,0]"
   ]
  },
  {
   "cell_type": "code",
   "execution_count": null,
   "metadata": {},
   "outputs": [],
   "source": [
    "import plotly.express as px"
   ]
  },
  {
   "cell_type": "code",
   "execution_count": null,
   "metadata": {},
   "outputs": [],
   "source": [
    "px.set_mapbox_access_token(open(\"mapbox_token\").read())\n",
    "nicemap = px.scatter_mapbox( lat = X[:, 1], lon = X[:, 0], color = predicted_kmeans,\n",
    "size_max=15, zoom=10)\n",
    "nicemap.show()"
   ]
  }
 ],
 "metadata": {
  "interpreter": {
   "hash": "84124d46dd126ec8d7ff94d5f94a4fab5c1e6d48237b4564158d565a05f31086"
  },
  "kernelspec": {
   "display_name": "Python 3.9.12 64-bit (windows store)",
   "language": "python",
   "name": "python3"
  },
  "language_info": {
   "codemirror_mode": {
    "name": "ipython",
    "version": 3
   },
   "file_extension": ".py",
   "mimetype": "text/x-python",
   "name": "python",
   "nbconvert_exporter": "python",
   "pygments_lexer": "ipython3",
   "version": "3.9.12"
  },
  "orig_nbformat": 4
 },
 "nbformat": 4,
 "nbformat_minor": 2
}
