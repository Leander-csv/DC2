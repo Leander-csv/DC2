{
 "cells": [
  {
   "cell_type": "code",
   "execution_count": 40,
   "metadata": {},
   "outputs": [],
   "source": [
    "import pandas as pd\n",
    "import re\n",
    "import os"
   ]
  },
  {
   "cell_type": "code",
   "execution_count": 41,
   "metadata": {},
   "outputs": [],
   "source": [
    "#TO DO Add file path for folder with all data\n",
    "path = '/Users/leanderhuyghe/Documents/Tue/Data Challenge 2/Jan_2010_Oct_2021' "
   ]
  },
  {
   "cell_type": "code",
   "execution_count": 42,
   "metadata": {},
   "outputs": [],
   "source": [
    "def path_files(path_directory):\n",
    "    ''' \n",
    "    Extracts all file names in the dataset containing Metropolitan \n",
    "    and stop-and-search\n",
    "    '''\n",
    "    files = []\n",
    "    directory = os.listdir(path_directory)\n",
    "\n",
    "    for sub in directory: \n",
    "        sub_path = os.path.join(path_directory, sub)\n",
    "        if os.path.isdir(sub_path): \n",
    "            files = files + path_files(sub_path)\n",
    "        elif re.match('.*(metropolitan-stop-and-search)', sub_path): \n",
    "            files = files + [sub_path]\n",
    "\n",
    "    return files\n"
   ]
  },
  {
   "cell_type": "code",
   "execution_count": 43,
   "metadata": {},
   "outputs": [
    {
     "name": "stderr",
     "output_type": "stream",
     "text": [
      "/var/folders/ph/6xj4s_7j2hdblj9jts4mbpvc0000gn/T/ipykernel_14721/1955703857.py:3: FutureWarning: Behavior when concatenating bool-dtype and numeric-dtype arrays is deprecated; in a future version these will cast to object dtype (instead of coercing bools to numeric values). To retain the old behavior, explicitly cast bool-dtype arrays to numeric dtype.\n",
      "  df_stop_and_search = pd.concat([pd.read_csv(item) for item in paths]) #Create Dataframe\n"
     ]
    }
   ],
   "source": [
    "paths = path_files(path) #Create list with all path names\n",
    "\n",
    "df_stop_and_search = pd.concat([pd.read_csv(item) for item in paths]) #Create Dataframe\n",
    "\n"
   ]
  },
  {
   "cell_type": "code",
   "execution_count": 44,
   "metadata": {},
   "outputs": [],
   "source": [
    "df_stop_and_search.to_csv('stop_and_search_concatenated') #Write Dataframe to csv"
   ]
  }
 ],
 "metadata": {
  "interpreter": {
   "hash": "aee8b7b246df8f9039afb4144a1f6fd8d2ca17a180786b69acc140d282b71a49"
  },
  "kernelspec": {
   "display_name": "Python 3.10.2 64-bit",
   "language": "python",
   "name": "python3"
  },
  "language_info": {
   "codemirror_mode": {
    "name": "ipython",
    "version": 3
   },
   "file_extension": ".py",
   "mimetype": "text/x-python",
   "name": "python",
   "nbconvert_exporter": "python",
   "pygments_lexer": "ipython3",
   "version": "3.10.2"
  },
  "orig_nbformat": 4
 },
 "nbformat": 4,
 "nbformat_minor": 2
}
