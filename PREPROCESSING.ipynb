{
 "cells": [
  {
   "cell_type": "code",
   "execution_count": 1,
   "id": "ec39f6dc",
   "metadata": {},
   "outputs": [],
   "source": [
    "import pandas as pd\n",
    "import numpy as np\n",
    "import sqlite3\n",
    "import re"
   ]
  },
  {
   "cell_type": "code",
   "execution_count": null,
   "id": "6741ff5a",
   "metadata": {},
   "outputs": [],
   "source": [
    "from IPython.core.display import display, HTML\n",
    "display(HTML(\"<style>.container { width:80% !important; }</style>\"))"
   ]
  },
  {
   "cell_type": "markdown",
   "id": "6e24d775",
   "metadata": {},
   "source": [
    "## Loading data / processing"
   ]
  },
  {
   "cell_type": "code",
   "execution_count": 2,
   "id": "624490bf",
   "metadata": {},
   "outputs": [],
   "source": [
    "conn_metro = sqlite3.connect('./police_london.db')"
   ]
  },
  {
   "cell_type": "code",
   "execution_count": null,
   "id": "36634f96",
   "metadata": {},
   "outputs": [],
   "source": [
    "query_metro_street = 'SELECT * FROM METRO_STREET'\n",
    "df_metro_street = pd.read_sql(query_metro_street, conn_metro)"
   ]
  },
  {
   "cell_type": "code",
   "execution_count": null,
   "id": "71e32416",
   "metadata": {},
   "outputs": [],
   "source": [
    "query_metro_outcomes = 'SELECT * FROM METRO_OUTCOMES'\n",
    "df_metro_outcomes = pd.read_sql(query_metro_outcomes, conn_metro)"
   ]
  },
  {
   "cell_type": "code",
   "execution_count": null,
   "id": "1bcb23a3",
   "metadata": {},
   "outputs": [],
   "source": [
    "query_metro_search = 'SELECT * FROM METRO_SEARCH'\n",
    "df_metro_search = pd.read_sql(query_metro_search, conn_metro)"
   ]
  },
  {
   "cell_type": "code",
   "execution_count": null,
   "id": "d3168bc6",
   "metadata": {},
   "outputs": [],
   "source": [
    "# mdp uses 12 bcu in the frontline, all covering a certain no. of boroughs (possibly needed for later analysis)\n",
    "\n",
    "boroughs_bcu = {'Westminster': 'AW - Central West', 'Kensington and Chelsea': 'AW - Central West',\n",
    "                'Hammersmith and Fulham': 'AW - Central West', 'Wandsworth': 'SW - South West',\n",
    "                'Lambeth': 'AS - Central South', 'Southwark': 'AS - Central South',\n",
    "                'Tower Hamlets': 'CE - Central East', 'Hackney': 'CE - Central East',\n",
    "                'Islington': 'CN - Central North', 'Camden': 'CN - Central North',\n",
    "                'Brent': 'NW - North West', 'Ealing': 'WA - West Area', \n",
    "                'Hounslow': 'WA - West Area', 'Richmond upon Thames': 'SW - South West', \n",
    "                'Kingston upon Thames': 'SW - South West', 'Merton': 'SW - South West', \n",
    "                'Sutton': 'SN - South Area', 'Croydon': 'SN - South Area', 'Bromley': 'SN - South Area', \n",
    "                'Lewisham': 'SE - South East', 'Greenwich': 'SE - South East', \n",
    "                'Bexley': 'SE - South East', 'Havering': 'EA - East Area', \n",
    "                'Barking and Dagenham': 'EA - East Area', 'Redbridge': 'EA - East Area',\n",
    "                'Newham': 'NE - North East', 'Waltham Forest': 'NE - North East', \n",
    "                'Haringey': 'NA - North Area', 'Enfield': 'NA - North Area', 'Barnet': 'NW - North West',\n",
    "                'Harrow': 'NW - North West', 'Hillingdon': 'WA - West Area'}"
   ]
  },
  {
   "cell_type": "markdown",
   "id": "c0fb0ddb",
   "metadata": {},
   "source": [
    "## Cleaning\n",
    "note: no nan values removed as other parts of the row might be useful for later analysis"
   ]
  },
  {
   "cell_type": "code",
   "execution_count": null,
   "id": "5bb6063c",
   "metadata": {},
   "outputs": [],
   "source": [
    "# drops duplicate rows and useless columns\n",
    "\n",
    "street_clean = df_metro_street.drop_duplicates().drop(columns=['Context', 'Unnamed: 0']).copy()"
   ]
  },
  {
   "cell_type": "code",
   "execution_count": null,
   "id": "2e853f0f",
   "metadata": {},
   "outputs": [],
   "source": [
    "# map borough / bcu to dataframe\n",
    "\n",
    "street_clean['Borough'] = street_clean['LSOA name'].str[:-5]\n",
    "street_clean = street_clean[street_clean['Borough'].isin(boroughs_bcu.keys())]\n",
    "street_clean['BCU'] = street_clean['Borough'].map(boroughs_bcu)"
   ]
  },
  {
   "cell_type": "code",
   "execution_count": null,
   "id": "ca0740ef",
   "metadata": {},
   "outputs": [],
   "source": [
    "# drops duplicate rows\n",
    "\n",
    "outcomes_clean = df_metro_outcomes.drop_duplicates().copy()"
   ]
  },
  {
   "cell_type": "code",
   "execution_count": null,
   "id": "e0af1ac2",
   "metadata": {},
   "outputs": [],
   "source": [
    "# map borough / bcu to dataframe\n",
    "\n",
    "outcomes_clean['Borough'] = outcomes_clean['LSOA name'].str[:-5]\n",
    "outcomes_clean = outcomes_clean[outcomes_clean['Borough'].isin(boroughs_bcu.keys())]\n",
    "outcomes_clean['BCU'] = outcomes_clean['Borough'].map(boroughs_bcu)"
   ]
  },
  {
   "cell_type": "code",
   "execution_count": null,
   "id": "fdfd963f",
   "metadata": {},
   "outputs": [],
   "source": [
    "# drops useless columns\n",
    "\n",
    "search_clean = df_metro_search.drop(columns=['Removal of more than just outer clothing', 'Outcome linked to object of search', \n",
    "                                             'Policing operation', 'Part of a policing operation', 'Unnamed: 0']).copy()"
   ]
  },
  {
   "cell_type": "code",
   "execution_count": null,
   "id": "a6e8f23c",
   "metadata": {},
   "outputs": [],
   "source": [
    "# correct time format\n",
    "\n",
    "search_clean['Date'] = search_clean['Date'].str[:7]"
   ]
  },
  {
   "cell_type": "code",
   "execution_count": null,
   "id": "196bb43d",
   "metadata": {},
   "outputs": [],
   "source": [
    "# calculates max / min lat, long values in cleaned tables to apply to search data (no lsoa available for search data)\n",
    "\n",
    "max_lat = max([outcomes_clean['Latitude'].max(), street_clean['Latitude'].max()])\n",
    "min_lat = min([outcomes_clean['Latitude'].min(), street_clean['Latitude'].min()])\n",
    "max_long = max([outcomes_clean['Longitude'].max(), street_clean['Longitude'].max()])\n",
    "min_long = min([outcomes_clean['Longitude'].min(), street_clean['Longitude'].min()])"
   ]
  },
  {
   "cell_type": "code",
   "execution_count": null,
   "id": "4ab88164",
   "metadata": {},
   "outputs": [],
   "source": [
    "# removes all rows for which the lat / long doesn't fall in the max min values of other tables \n",
    "\n",
    "search_clean = search_clean[(search_clean['Latitude'] <= max_lat) & (search_clean['Latitude'] >= min_lat)]\n",
    "search_clean = search_clean[(search_clean['Longitude'] <= max_long) & (search_clean['Longitude'] >= min_long)]"
   ]
  },
  {
   "cell_type": "markdown",
   "id": "e718d0b1",
   "metadata": {},
   "source": [
    "## Adding back to database"
   ]
  },
  {
   "cell_type": "code",
   "execution_count": null,
   "id": "3dac6c7f",
   "metadata": {},
   "outputs": [],
   "source": [
    "street_clean.to_sql('METRO_STREET', conn_metro, if_exists=\"replace\", index=False)"
   ]
  },
  {
   "cell_type": "code",
   "execution_count": null,
   "id": "39223065",
   "metadata": {},
   "outputs": [],
   "source": [
    "outcomes_clean.to_sql('METRO_OUTCOMES', conn_metro, if_exists=\"replace\", index=False)"
   ]
  },
  {
   "cell_type": "code",
   "execution_count": null,
   "id": "fb1f9409",
   "metadata": {},
   "outputs": [],
   "source": [
    "search_clean.to_sql('METRO_SEARCH', conn_metro, if_exists=\"replace\", index=False)"
   ]
  },
  {
   "cell_type": "code",
   "execution_count": 8,
   "id": "dddd899e",
   "metadata": {},
   "outputs": [],
   "source": [
    "conn_metro.close()"
   ]
  }
 ],
 "metadata": {
  "kernelspec": {
   "display_name": "Python 3 (ipykernel)",
   "language": "python",
   "name": "python3"
  },
  "language_info": {
   "codemirror_mode": {
    "name": "ipython",
    "version": 3
   },
   "file_extension": ".py",
   "mimetype": "text/x-python",
   "name": "python",
   "nbconvert_exporter": "python",
   "pygments_lexer": "ipython3",
   "version": "3.9.7"
  }
 },
 "nbformat": 4,
 "nbformat_minor": 5
}
