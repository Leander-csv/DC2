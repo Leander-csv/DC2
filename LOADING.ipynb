{
 "cells": [
  {
   "cell_type": "code",
   "execution_count": 1,
   "id": "07980acf",
   "metadata": {},
   "outputs": [],
   "source": [
    "import pandas as pd\n",
    "import numpy as np \n",
    "import os\n",
    "import sqlite3\n",
    "import re"
   ]
  },
  {
   "cell_type": "markdown",
   "id": "6b79f9aa",
   "metadata": {},
   "source": [
    "## Generating CSV's"
   ]
  },
  {
   "cell_type": "markdown",
   "id": "1b89ffe4",
   "metadata": {},
   "source": [
    "### Function definitions"
   ]
  },
  {
   "cell_type": "code",
   "execution_count": 2,
   "id": "f69d8fac",
   "metadata": {},
   "outputs": [],
   "source": [
    "def path_files(path_directory):\n",
    "    \"\"\"\n",
    "    Extracts all files names in a directory and its subdirectories \n",
    "    that have either metropolitan or city in the filename\n",
    "    :param path_directory: path to the directory to extract files from\n",
    "    :return: list of file paths\n",
    "    \"\"\"\n",
    "    \n",
    "    directory = os.listdir(path_directory)\n",
    "    files = []\n",
    "    \n",
    "    for sub in directory:\n",
    "        sub_path = os.path.join(path_directory, sub)\n",
    "        if os.path.isdir(sub_path):\n",
    "            files = files + path_files(sub_path)\n",
    "        elif re.match('.*(metropolitan|city)-', sub_path): \n",
    "            files = files + [sub_path]\n",
    "            \n",
    "    return files"
   ]
  },
  {
   "cell_type": "code",
   "execution_count": 3,
   "id": "8b87e7c7",
   "metadata": {},
   "outputs": [],
   "source": [
    "def get_csv(path, area, datatype):\n",
    "    \"\"\"\n",
    "    Extracts csv file in given path if the path matches given area/datatype\n",
    "    :param path: path to the directory to get csv\n",
    "    :param area: area to consider\n",
    "    :param datatype: datatype to consider (outcome, street or stop-and-search)\n",
    "    :return: csv\n",
    "    \"\"\"\n",
    "    if re.match(f'.*{area}-{datatype}', path):\n",
    "        return pd.read_csv(path)"
   ]
  },
  {
   "cell_type": "markdown",
   "id": "8d9823da",
   "metadata": {},
   "source": [
    "### CSV finder"
   ]
  },
  {
   "cell_type": "code",
   "execution_count": 4,
   "id": "5bdb9aa6",
   "metadata": {},
   "outputs": [],
   "source": [
    "files = path_files('./police_data_all/')"
   ]
  },
  {
   "cell_type": "code",
   "execution_count": 5,
   "id": "db17d8ea",
   "metadata": {},
   "outputs": [],
   "source": [
    "df_metro_street = pd.concat([get_csv(i, 'metropolitan', 'street') for i in files], \n",
    "                            sort=False, ignore_index=True)\n",
    "df_metro_search = pd.concat([get_csv(i, 'metropolitan', 'stop-and-search') for i in files], \n",
    "                            sort=False, ignore_index=True)\n",
    "df_metro_outcomes = pd.concat([get_csv(i, 'metropolitan', 'outcomes') for i in files], \n",
    "                            sort=False, ignore_index=True)\n",
    "\n",
    "df_city_street = pd.concat([get_csv(i, 'city-of-london', 'street') for i in files], \n",
    "                            sort=False, ignore_index=True)\n",
    "df_city_search = pd.concat([get_csv(i, 'city-of-london', 'stop-and-search') for i in files], \n",
    "                            sort=False, ignore_index=True)\n",
    "df_city_outcomes = pd.concat([get_csv(i, 'city-of-london', 'outcomes') for i in files], \n",
    "                            sort=False, ignore_index=True)"
   ]
  },
  {
   "cell_type": "markdown",
   "id": "6c9adc62",
   "metadata": {},
   "source": [
    "## Database creation"
   ]
  },
  {
   "cell_type": "code",
   "execution_count": 6,
   "id": "c4b3ca4b",
   "metadata": {},
   "outputs": [],
   "source": [
    "conn_london = sqlite3.connect('./police_london.db')"
   ]
  },
  {
   "cell_type": "code",
   "execution_count": 7,
   "id": "ad8cd5bc",
   "metadata": {},
   "outputs": [
    {
     "name": "stderr",
     "output_type": "stream",
     "text": [
      "/Users/sophie/opt/anaconda3/lib/python3.9/site-packages/pandas/core/generic.py:2872: UserWarning: The spaces in these column names will not be changed. In pandas versions < 0.14, spaces were converted to underscores.\n",
      "  sql.to_sql(\n"
     ]
    }
   ],
   "source": [
    "df_metro_street.to_sql('METRO_STREET', conn_london, if_exists=\"append\", index=False)\n",
    "df_metro_search.to_sql('METRO_SEARCH', conn_london, if_exists=\"append\", index=False)\n",
    "df_metro_outcomes.to_sql('METRO_OUTCOMES', conn_london, if_exists=\"append\", index=False)\n",
    "\n",
    "df_city_street.to_sql('CITY_STREET', conn_london, if_exists=\"append\", index=False)\n",
    "df_city_search.to_sql('CITY_SEARCH', conn_london, if_exists=\"append\", index=False)\n",
    "df_city_outcomes.to_sql('CITY_OUTCOMES', conn_london, if_exists=\"append\", index=False)"
   ]
  },
  {
   "cell_type": "code",
   "execution_count": 8,
   "id": "723f7dd6",
   "metadata": {},
   "outputs": [],
   "source": [
    "conn_london.close()"
   ]
  }
 ],
 "metadata": {
  "kernelspec": {
   "display_name": "Python 3 (ipykernel)",
   "language": "python",
   "name": "python3"
  },
  "language_info": {
   "codemirror_mode": {
    "name": "ipython",
    "version": 3
   },
   "file_extension": ".py",
   "mimetype": "text/x-python",
   "name": "python",
   "nbconvert_exporter": "python",
   "pygments_lexer": "ipython3",
   "version": "3.9.7"
  }
 },
 "nbformat": 4,
 "nbformat_minor": 5
}
